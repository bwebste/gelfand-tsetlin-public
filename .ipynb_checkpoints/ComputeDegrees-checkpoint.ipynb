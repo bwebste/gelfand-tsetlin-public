{
 "cells": [
  {
   "cell_type": "code",
   "execution_count": 22,
   "id": "9b912f0b-3bb6-4b12-b414-63feb1a50546",
   "metadata": {},
   "outputs": [],
   "source": [
    "#This loads the necessary code\n",
    "load('ComputeDegrees.sage')"
   ]
  },
  {
   "cell_type": "code",
   "execution_count": 6,
   "id": "8c296379-0d18-4267-b068-4442ad363656",
   "metadata": {},
   "outputs": [
    {
     "name": "stdout",
     "output_type": "stream",
     "text": [
      "([1], [1, 2], [1, 2, 3]) 0 [1]\n",
      "([1], [1, 2], [1, 3, 2]) 2 [1, 0, 1]\n",
      "([1], [1, 2], [2, 1, 3]) 2 [1, 0, 2]\n",
      "([1], [1, 2], [2, 3, 1]) 4 [1, 0, 2, 0, 1]\n",
      "([1], [1, 2], [3, 1, 2]) 4 [1, 0, 2, 0, 2]\n",
      "([1], [1, 2], [3, 2, 1]) 2 [1, 0, 3, 0, 2]\n",
      "([1], [2, 1], [1, 2, 3]) 2 [1, 0, 4, 0, 2]\n",
      "([1], [2, 1], [1, 3, 2]) 2 [1, 0, 5, 0, 2]\n",
      "([1], [2, 1], [2, 1, 3]) 2 [1, 0, 6, 0, 2]\n",
      "([1], [2, 1], [2, 3, 1]) 4 [1, 0, 6, 0, 3]\n",
      "([1], [2, 1], [3, 1, 2]) 4 [1, 0, 6, 0, 4]\n",
      "([1], [2, 1], [3, 2, 1]) 4 [1, 0, 6, 0, 5]\n"
     ]
    },
    {
     "data": {
      "text/plain": [
       "[1, 0, 6, 0, 5]"
      ]
     },
     "execution_count": 6,
     "metadata": {},
     "output_type": "execute_result"
    }
   ],
   "source": [
    "#This prints the list of elements of W with n=4 with their degrees.\n",
    "TestAllPermutations(4,True)"
   ]
  },
  {
   "cell_type": "code",
   "execution_count": 7,
   "id": "efdc24f6-c7ff-477a-b9ce-584caa358704",
   "metadata": {},
   "outputs": [
    {
     "data": {
      "text/plain": [
       "[1, 0, 29, 0, 114, 0, 114, 0, 29, 0, 1]"
      ]
     },
     "execution_count": 7,
     "metadata": {},
     "output_type": "execute_result"
    }
   ],
   "source": [
    "#This calculates the degrees of W with n=5 as discussed in the paper.  The toggle \"False\" means we don't print the degrees of each element (since there are 288 of them).\n",
    "TestAllPermutations(5,False)"
   ]
  },
  {
   "cell_type": "code",
   "execution_count": 8,
   "id": "6a5294f9-609b-4734-b8fc-b5b97ad21c53",
   "metadata": {},
   "outputs": [
    {
     "data": {
      "text/plain": [
       "[2, 0, 222, 0, 2406, 0, 8598, 0, 12418, 0, 8122, 0, 2434, 0, 338, 0, 20]"
      ]
     },
     "execution_count": 8,
     "metadata": {},
     "output_type": "execute_result"
    }
   ],
   "source": [
    "#This calculates the degrees of W with n=6 as discussed in the paper.\n",
    "TestAllPermutations(6,False)"
   ]
  }
 ],
 "metadata": {
  "kernelspec": {
   "display_name": "SageMath 10.1",
   "language": "sage",
   "name": "sagemath-10.1"
  },
  "language_info": {
   "codemirror_mode": {
    "name": "ipython",
    "version": 3
   },
   "file_extension": ".py",
   "mimetype": "text/x-python",
   "name": "python",
   "nbconvert_exporter": "python",
   "pygments_lexer": "ipython3",
   "version": "3.11.1"
  }
 },
 "nbformat": 4,
 "nbformat_minor": 5
}
